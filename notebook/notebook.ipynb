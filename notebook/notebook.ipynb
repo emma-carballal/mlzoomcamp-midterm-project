{
 "cells": [
  {
   "cell_type": "markdown",
   "id": "4e0b96f4",
   "metadata": {},
   "source": [
    "# ML Zoomcamp - Midterm Project"
   ]
  },
  {
   "cell_type": "markdown",
   "id": "ba4f517c",
   "metadata": {},
   "source": [
    "## Dataset : UCI Heart Disease Data"
   ]
  },
  {
   "cell_type": "markdown",
   "id": "4e475ae2",
   "metadata": {},
   "source": [
    "For the ml-zoomcamp midterm project I've chosen a subset of the Heart Disease Data Set from UCI Machine Learning data repository. It contains 14 patient attributes and I'll use them to predict whether a patient has heart disease (target values 1,2,3,4) or not (target value 0).\n",
    "\n",
    "The dataset is included in the project directory, or can be downloaded from kaggle:\n",
    "\n",
    "[https://www.kaggle.com/datasets/redwankarimsony/heart-disease-data/download?datasetVersionNumber=6](https://www.kaggle.com/datasets/redwankarimsony/heart-disease-data/download?datasetVersionNumber=6)\n",
    "\n",
    "The feature names are:\n",
    "\n",
    "0. **id**\n",
    "1. **age**\n",
    "2. **sex**\n",
    "3. **dataset**: the Cleveland database is the only one used\n",
    "4. **cp**: chest pain type\n",
    "    - typical angina\n",
    "    - atypical angina\n",
    "    - non-anginal pain\n",
    "    - asymptomatic\n",
    "5. **trestbps**: resting blood pressure (in mm Hg on admission to the hospital)\n",
    "6. **chol**: serum cholestoral in mg/dl\n",
    "7. **fbs**: (fasting blood sugar > 120 mg/dl) (1 = true; 0 = false)\n",
    "8. **restecg**: resting electrocardiographic results\n",
    "    - normal\n",
    "    - lv hypertrophy\t\n",
    "    - st-t abnormality\n",
    "9. **thalach**: maximum heart rate achieved\n",
    "10. **exang**: exercise induced angina\n",
    "11. **oldpeak**: ST depression induced by exercise relative to rest\n",
    "12. **slope**: the slope of the peak exercise ST segment\n",
    "    - upsloping\n",
    "    - flat\n",
    "    - downsloping\n",
    "13. **ca**: number of major vessels (0-3) colored by flourosopy\n",
    "14. **thal**:\n",
    "    - normal\n",
    "    - fixed defect\n",
    "    - reversable defect\n",
    "15. **num**: the predicted target\n",
    "    - normal = 0\n",
    "    - heart disease = 1,2,3,4"
   ]
  },
  {
   "cell_type": "markdown",
   "id": "e447bdb3",
   "metadata": {},
   "source": [
    "### Data preparation and exploratory data analysis"
   ]
  },
  {
   "cell_type": "code",
   "execution_count": 36,
   "id": "c6192a4a",
   "metadata": {},
   "outputs": [],
   "source": [
    "import pandas as pd\n",
    "import matplotlib.pyplot as plt\n",
    "import seaborn as sns\n",
    "\n",
    "%matplotlib inline"
   ]
  },
  {
   "cell_type": "markdown",
   "id": "c646752c",
   "metadata": {},
   "source": [
    "After downloading the dataset, I've proceeded to import it with pandas\n",
    "to inspect the features and possible missing values."
   ]
  },
  {
   "cell_type": "code",
   "execution_count": 80,
   "id": "b3675367",
   "metadata": {},
   "outputs": [
    {
     "data": {
      "text/html": [
       "<div>\n",
       "<style scoped>\n",
       "    .dataframe tbody tr th:only-of-type {\n",
       "        vertical-align: middle;\n",
       "    }\n",
       "\n",
       "    .dataframe tbody tr th {\n",
       "        vertical-align: top;\n",
       "    }\n",
       "\n",
       "    .dataframe thead th {\n",
       "        text-align: right;\n",
       "    }\n",
       "</style>\n",
       "<table border=\"1\" class=\"dataframe\">\n",
       "  <thead>\n",
       "    <tr style=\"text-align: right;\">\n",
       "      <th></th>\n",
       "      <th>id</th>\n",
       "      <th>age</th>\n",
       "      <th>sex</th>\n",
       "      <th>dataset</th>\n",
       "      <th>cp</th>\n",
       "      <th>trestbps</th>\n",
       "      <th>chol</th>\n",
       "      <th>fbs</th>\n",
       "      <th>restecg</th>\n",
       "      <th>thalch</th>\n",
       "      <th>exang</th>\n",
       "      <th>oldpeak</th>\n",
       "      <th>slope</th>\n",
       "      <th>ca</th>\n",
       "      <th>thal</th>\n",
       "      <th>num</th>\n",
       "    </tr>\n",
       "  </thead>\n",
       "  <tbody>\n",
       "    <tr>\n",
       "      <th>0</th>\n",
       "      <td>1</td>\n",
       "      <td>63</td>\n",
       "      <td>Male</td>\n",
       "      <td>Cleveland</td>\n",
       "      <td>typical angina</td>\n",
       "      <td>145.0</td>\n",
       "      <td>233.0</td>\n",
       "      <td>True</td>\n",
       "      <td>lv hypertrophy</td>\n",
       "      <td>150.0</td>\n",
       "      <td>False</td>\n",
       "      <td>2.3</td>\n",
       "      <td>downsloping</td>\n",
       "      <td>0.0</td>\n",
       "      <td>fixed defect</td>\n",
       "      <td>0</td>\n",
       "    </tr>\n",
       "    <tr>\n",
       "      <th>1</th>\n",
       "      <td>2</td>\n",
       "      <td>67</td>\n",
       "      <td>Male</td>\n",
       "      <td>Cleveland</td>\n",
       "      <td>asymptomatic</td>\n",
       "      <td>160.0</td>\n",
       "      <td>286.0</td>\n",
       "      <td>False</td>\n",
       "      <td>lv hypertrophy</td>\n",
       "      <td>108.0</td>\n",
       "      <td>True</td>\n",
       "      <td>1.5</td>\n",
       "      <td>flat</td>\n",
       "      <td>3.0</td>\n",
       "      <td>normal</td>\n",
       "      <td>2</td>\n",
       "    </tr>\n",
       "    <tr>\n",
       "      <th>2</th>\n",
       "      <td>3</td>\n",
       "      <td>67</td>\n",
       "      <td>Male</td>\n",
       "      <td>Cleveland</td>\n",
       "      <td>asymptomatic</td>\n",
       "      <td>120.0</td>\n",
       "      <td>229.0</td>\n",
       "      <td>False</td>\n",
       "      <td>lv hypertrophy</td>\n",
       "      <td>129.0</td>\n",
       "      <td>True</td>\n",
       "      <td>2.6</td>\n",
       "      <td>flat</td>\n",
       "      <td>2.0</td>\n",
       "      <td>reversable defect</td>\n",
       "      <td>1</td>\n",
       "    </tr>\n",
       "    <tr>\n",
       "      <th>3</th>\n",
       "      <td>4</td>\n",
       "      <td>37</td>\n",
       "      <td>Male</td>\n",
       "      <td>Cleveland</td>\n",
       "      <td>non-anginal</td>\n",
       "      <td>130.0</td>\n",
       "      <td>250.0</td>\n",
       "      <td>False</td>\n",
       "      <td>normal</td>\n",
       "      <td>187.0</td>\n",
       "      <td>False</td>\n",
       "      <td>3.5</td>\n",
       "      <td>downsloping</td>\n",
       "      <td>0.0</td>\n",
       "      <td>normal</td>\n",
       "      <td>0</td>\n",
       "    </tr>\n",
       "    <tr>\n",
       "      <th>4</th>\n",
       "      <td>5</td>\n",
       "      <td>41</td>\n",
       "      <td>Female</td>\n",
       "      <td>Cleveland</td>\n",
       "      <td>atypical angina</td>\n",
       "      <td>130.0</td>\n",
       "      <td>204.0</td>\n",
       "      <td>False</td>\n",
       "      <td>lv hypertrophy</td>\n",
       "      <td>172.0</td>\n",
       "      <td>False</td>\n",
       "      <td>1.4</td>\n",
       "      <td>upsloping</td>\n",
       "      <td>0.0</td>\n",
       "      <td>normal</td>\n",
       "      <td>0</td>\n",
       "    </tr>\n",
       "  </tbody>\n",
       "</table>\n",
       "</div>"
      ],
      "text/plain": [
       "   id  age     sex    dataset               cp  trestbps   chol    fbs  \\\n",
       "0   1   63    Male  Cleveland   typical angina     145.0  233.0   True   \n",
       "1   2   67    Male  Cleveland     asymptomatic     160.0  286.0  False   \n",
       "2   3   67    Male  Cleveland     asymptomatic     120.0  229.0  False   \n",
       "3   4   37    Male  Cleveland      non-anginal     130.0  250.0  False   \n",
       "4   5   41  Female  Cleveland  atypical angina     130.0  204.0  False   \n",
       "\n",
       "          restecg  thalch  exang  oldpeak        slope   ca  \\\n",
       "0  lv hypertrophy   150.0  False      2.3  downsloping  0.0   \n",
       "1  lv hypertrophy   108.0   True      1.5         flat  3.0   \n",
       "2  lv hypertrophy   129.0   True      2.6         flat  2.0   \n",
       "3          normal   187.0  False      3.5  downsloping  0.0   \n",
       "4  lv hypertrophy   172.0  False      1.4    upsloping  0.0   \n",
       "\n",
       "                thal  num  \n",
       "0       fixed defect    0  \n",
       "1             normal    2  \n",
       "2  reversable defect    1  \n",
       "3             normal    0  \n",
       "4             normal    0  "
      ]
     },
     "execution_count": 80,
     "metadata": {},
     "output_type": "execute_result"
    }
   ],
   "source": [
    "df = pd.read_csv(\"../heart_disease_uci.csv\")\n",
    "df.head()"
   ]
  },
  {
   "cell_type": "code",
   "execution_count": 81,
   "id": "4d9bc185",
   "metadata": {},
   "outputs": [
    {
     "data": {
      "text/plain": [
       "(920, 16)"
      ]
     },
     "execution_count": 81,
     "metadata": {},
     "output_type": "execute_result"
    }
   ],
   "source": [
    "df.shape"
   ]
  },
  {
   "cell_type": "code",
   "execution_count": 82,
   "id": "f29e7a1a",
   "metadata": {},
   "outputs": [
    {
     "data": {
      "text/plain": [
       "id            int64\n",
       "age           int64\n",
       "sex          object\n",
       "dataset      object\n",
       "cp           object\n",
       "trestbps    float64\n",
       "chol        float64\n",
       "fbs          object\n",
       "restecg      object\n",
       "thalch      float64\n",
       "exang        object\n",
       "oldpeak     float64\n",
       "slope        object\n",
       "ca          float64\n",
       "thal         object\n",
       "num           int64\n",
       "dtype: object"
      ]
     },
     "execution_count": 82,
     "metadata": {},
     "output_type": "execute_result"
    }
   ],
   "source": [
    "df.dtypes"
   ]
  },
  {
   "cell_type": "markdown",
   "id": "305aab8a",
   "metadata": {},
   "source": [
    "Column names are all lower case and contain no spaces.\n",
    "\n",
    "Checking for missing values:"
   ]
  },
  {
   "cell_type": "code",
   "execution_count": 83,
   "id": "c022f01c",
   "metadata": {},
   "outputs": [
    {
     "data": {
      "text/plain": [
       "id            0\n",
       "age           0\n",
       "sex           0\n",
       "dataset       0\n",
       "cp            0\n",
       "trestbps     59\n",
       "chol         30\n",
       "fbs          90\n",
       "restecg       2\n",
       "thalch       55\n",
       "exang        55\n",
       "oldpeak      62\n",
       "slope       309\n",
       "ca          611\n",
       "thal        486\n",
       "num           0\n",
       "dtype: int64"
      ]
     },
     "execution_count": 83,
     "metadata": {},
     "output_type": "execute_result"
    }
   ],
   "source": [
    "df.isnull().sum()"
   ]
  },
  {
   "cell_type": "markdown",
   "id": "9537a5b7",
   "metadata": {},
   "source": [
    "There are missing values across quite a few columns, so I'll fill in NaN values with the most frequent value\n",
    "in the columns with less than 30% of missing values.\n",
    "\n",
    "I don't think it makes sense to keep features where values are missing in more than 50% of the rows,\n",
    "so I'll remove them from the dataframe."
   ]
  },
  {
   "cell_type": "code",
   "execution_count": 84,
   "id": "04a31397",
   "metadata": {},
   "outputs": [],
   "source": [
    "columns = [\"trestbps\", \"chol\", \"fbs\", \"restecg\", \"thalch\", \"exang\", \"oldpeak\", \"slope\"]\n",
    "\n",
    "for col in columns:\n",
    "    df[col] = df[col].fillna(df[col].mode)\n",
    "\n",
    "del df[\"ca\"]\n",
    "del df[\"thal\"]"
   ]
  },
  {
   "cell_type": "code",
   "execution_count": 85,
   "id": "109f8d70",
   "metadata": {},
   "outputs": [
    {
     "data": {
      "text/plain": [
       "id          0\n",
       "age         0\n",
       "sex         0\n",
       "dataset     0\n",
       "cp          0\n",
       "trestbps    0\n",
       "chol        0\n",
       "fbs         0\n",
       "restecg     0\n",
       "thalch      0\n",
       "exang       0\n",
       "oldpeak     0\n",
       "slope       0\n",
       "num         0\n",
       "dtype: int64"
      ]
     },
     "execution_count": 85,
     "metadata": {},
     "output_type": "execute_result"
    }
   ],
   "source": [
    "df.isnull().sum()"
   ]
  },
  {
   "cell_type": "markdown",
   "id": "d30e1a5a",
   "metadata": {},
   "source": [
    "My objective is to use the current dataset to train a model for binary classification,\n",
    "that is, to predict whether a patient has a heart disease or not.\n",
    "There are 5 unique values in the target: 0 indicates that the patient has no heart disease\n",
    "and 1,2,3,4 indicate the presence of heart disease to various degrees of severity.\n",
    "In order to convert the target into a binary column, the values that indicate the presence of disease are all turned into 1."
   ]
  },
  {
   "cell_type": "code",
   "execution_count": 86,
   "id": "7e89b35b",
   "metadata": {},
   "outputs": [
    {
     "data": {
      "text/plain": [
       "0    411\n",
       "1    265\n",
       "2    109\n",
       "3    107\n",
       "4     28\n",
       "Name: num, dtype: int64"
      ]
     },
     "execution_count": 86,
     "metadata": {},
     "output_type": "execute_result"
    }
   ],
   "source": [
    "df.num.value_counts()"
   ]
  },
  {
   "cell_type": "code",
   "execution_count": 87,
   "id": "bb4d33b7",
   "metadata": {},
   "outputs": [],
   "source": [
    "df.loc[df.num != 0] = 1"
   ]
  },
  {
   "cell_type": "markdown",
   "id": "211d5d65",
   "metadata": {},
   "source": [
    "And I change the target column name to something more descriptive."
   ]
  },
  {
   "cell_type": "code",
   "execution_count": 101,
   "id": "84fc63a1",
   "metadata": {},
   "outputs": [
    {
     "data": {
      "text/plain": [
       "1    509\n",
       "0    411\n",
       "Name: disease, dtype: int64"
      ]
     },
     "execution_count": 101,
     "metadata": {},
     "output_type": "execute_result"
    }
   ],
   "source": [
    "df[\"disease\"] = df.num\n",
    "df.drop(\"num\", axis=1, inplace=True)\n",
    "df.disease.value_counts()"
   ]
  },
  {
   "cell_type": "markdown",
   "id": "daa10614",
   "metadata": {},
   "source": [
    "The dataset is balanced!"
   ]
  },
  {
   "cell_type": "markdown",
   "id": "40af7e82",
   "metadata": {},
   "source": [
    "## Setting up the validation framework"
   ]
  },
  {
   "cell_type": "code",
   "execution_count": 103,
   "id": "d8c21ced",
   "metadata": {},
   "outputs": [],
   "source": [
    "from sklearn.model_selection import train_test_split"
   ]
  },
  {
   "cell_type": "code",
   "execution_count": 104,
   "id": "56bee9ff",
   "metadata": {},
   "outputs": [],
   "source": [
    "df_full_train, df_test = train_test_split(df, test_size=0.2, random_state=42)\n",
    "df_train, df_val = train_test_split(df_full_train, test_size=0.25, random_state=42)"
   ]
  },
  {
   "cell_type": "code",
   "execution_count": null,
   "id": "95651f0f",
   "metadata": {},
   "outputs": [],
   "source": [
    "df_train = df_train.reset_index(drop=True)\n",
    "df_val = df_val.reset_index(drop=True)\n",
    "df_test = df_test.reset_index(drop=True)"
   ]
  },
  {
   "cell_type": "code",
   "execution_count": 105,
   "id": "d2cc5d00",
   "metadata": {},
   "outputs": [],
   "source": [
    "y_train = df.disease.values\n",
    "y_val = df.disease.values\n",
    "y_test = df.disease.values"
   ]
  },
  {
   "cell_type": "code",
   "execution_count": 108,
   "id": "3838fd41",
   "metadata": {},
   "outputs": [],
   "source": [
    "del df_train['disease']\n",
    "del df_val['disease']\n",
    "del df_test['disease']"
   ]
  },
  {
   "cell_type": "code",
   "execution_count": null,
   "id": "2c6c33e7",
   "metadata": {},
   "outputs": [],
   "source": []
  }
 ],
 "metadata": {
  "kernelspec": {
   "display_name": "Python 3 (ipykernel)",
   "language": "python",
   "name": "python3"
  },
  "language_info": {
   "codemirror_mode": {
    "name": "ipython",
    "version": 3
   },
   "file_extension": ".py",
   "mimetype": "text/x-python",
   "name": "python",
   "nbconvert_exporter": "python",
   "pygments_lexer": "ipython3",
   "version": "3.9.13"
  },
  "toc": {
   "base_numbering": 1,
   "nav_menu": {},
   "number_sections": true,
   "sideBar": true,
   "skip_h1_title": false,
   "title_cell": "Table of Contents",
   "title_sidebar": "Contents",
   "toc_cell": false,
   "toc_position": {},
   "toc_section_display": true,
   "toc_window_display": false
  }
 },
 "nbformat": 4,
 "nbformat_minor": 5
}
